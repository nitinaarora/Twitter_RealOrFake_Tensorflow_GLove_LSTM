{
  "nbformat": 4,
  "nbformat_minor": 0,
  "metadata": {
    "colab": {
      "name": "RealOrNot_26Sep_withGlove_V2.ipynb",
      "provenance": [],
      "toc_visible": true,
      "authorship_tag": "ABX9TyOxuZ1cb/mWolJ+34ckCPML",
      "include_colab_link": true
    },
    "kernelspec": {
      "name": "python3",
      "display_name": "Python 3"
    },
    "accelerator": "GPU"
  },
  "cells": [
    {
      "cell_type": "markdown",
      "metadata": {
        "id": "view-in-github",
        "colab_type": "text"
      },
      "source": [
        "<a href=\"https://colab.research.google.com/github/nitinaarora/Twitter_RealOrFake_Tensorflow_GLove_LSTM/blob/master/Twitter_RealOrNot_Tensorflow2.0_Glove_LSTM.ipynb\" target=\"_parent\"><img src=\"https://colab.research.google.com/assets/colab-badge.svg\" alt=\"Open In Colab\"/></a>"
      ]
    },
    {
      "cell_type": "markdown",
      "metadata": {
        "id": "wWtLQNipz5p7"
      },
      "source": [
        "## Plan V2 (27 sept) - With Gove\n",
        "\n",
        "\n",
        "*   get data from kaggle\n",
        "*   Analyze data - visually and table view\n",
        "*   Clean data -- remove stop words in next version\n",
        "*   Split data if not split already\n",
        "*   Simple Tokenization/Padding -> Then Glove OR Word2vec *** current focus\n",
        "*   Create model, train and evaluate\n",
        "*   Evaluate Accuracy\n",
        "*   Improve\n",
        "*   List item\n",
        "*   List item\n",
        "\n",
        "in first version, lets not use keyword and location features. Focus would be only text and target\n",
        "\n",
        "\n",
        "## Glove implementation\n",
        "\n",
        "\n",
        "*   Get glove vector file from standford portal based on type\n",
        "*   unzip in local and upload into colab\n",
        "*   create dict from glove file for word and vector value\n",
        "*   create metrics only for words within our vocab\n",
        "*   pass this metrics as weight parameter in Embedding layer\n",
        "*   Set Trainable - False in Embedding layer\n",
        "\n",
        "\n",
        "## Pre-processing Improvements\n",
        "\n",
        "\n",
        "*   concatenate keyword column into txt column.. it might be useful\n",
        "*   Remove unnecessary text/words from \"text\" column like :- HTTP Link, punctuation, emojis, stopwords\n",
        "\n",
        "\n",
        "---\n",
        "\n",
        "## Learning\n",
        "\n",
        "*  word_index will keep all words in itself regardless of vocab_size...vocab_size only come in picture when we use tokenixer to tranform like tk.texts_to_sequences...this is beacuse in traget text, most common words might be different so it keep all words to see most frequent words\n",
        "\n",
        "\n",
        "\n",
        "\n",
        "\n",
        "\n",
        "\n",
        "\n",
        "\n",
        "\n",
        "\n",
        "\n",
        "\n",
        "\n",
        "\n",
        "\n",
        "\n",
        "\n",
        "\n",
        "\n"
      ]
    },
    {
      "cell_type": "code",
      "metadata": {
        "id": "uSrQyABY0UON"
      },
      "source": [
        "##import packanges\n",
        "import numpy as np # linear algebra\n",
        "import pandas as pd # data processing, CSV file I/O (e.g. pd.read_csv)\n",
        "import tensorflow as tf\n",
        "from tensorflow.keras.layers import Embedding, Dense, LSTM, Dropout,Flatten, Bidirectional\n",
        "from tensorflow.keras.preprocessing.text import Tokenizer\n",
        "from tensorflow.keras.preprocessing.sequence import pad_sequences\n",
        "from tensorflow.keras import regularizers \n",
        "import matplotlib.pyplot as plt\n",
        "from sklearn.model_selection import train_test_split\n"
      ],
      "execution_count": 5,
      "outputs": []
    },
    {
      "cell_type": "code",
      "metadata": {
        "id": "nKcRxIxt2HeI"
      },
      "source": [
        "!pip install -q kaggle"
      ],
      "execution_count": 6,
      "outputs": []
    },
    {
      "cell_type": "code",
      "metadata": {
        "id": "yQ-x4AH52IEu",
        "outputId": "d54d5575-2b53-487f-b715-335a870739c8",
        "colab": {
          "base_uri": "https://localhost:8080/",
          "height": 34
        }
      },
      "source": [
        "\n",
        "! mkdir ~/.kaggle"
      ],
      "execution_count": 7,
      "outputs": [
        {
          "output_type": "stream",
          "text": [
            "mkdir: cannot create directory ‘/root/.kaggle’: File exists\n"
          ],
          "name": "stdout"
        }
      ]
    },
    {
      "cell_type": "code",
      "metadata": {
        "id": "g-QBdr1UNA7l"
      },
      "source": [
        "! cp kaggle.json ~/.kaggle/\n",
        "! chmod 600 ~/.kaggle/kaggle.json"
      ],
      "execution_count": 8,
      "outputs": []
    },
    {
      "cell_type": "code",
      "metadata": {
        "id": "PFPx29EN3Tm8",
        "outputId": "0f83eced-ea4f-4b47-b904-505cc882e8d4",
        "colab": {
          "base_uri": "https://localhost:8080/",
          "height": 85
        }
      },
      "source": [
        "!kaggle competitions download -c nlp-getting-started"
      ],
      "execution_count": 9,
      "outputs": [
        {
          "output_type": "stream",
          "text": [
            "Warning: Looks like you're using an outdated API Version, please consider updating (server 1.5.6 / client 1.5.4)\n",
            "test.csv: Skipping, found more recently modified local copy (use --force to force download)\n",
            "sample_submission.csv: Skipping, found more recently modified local copy (use --force to force download)\n",
            "train.csv: Skipping, found more recently modified local copy (use --force to force download)\n"
          ],
          "name": "stdout"
        }
      ]
    },
    {
      "cell_type": "code",
      "metadata": {
        "id": "GU6HC5nJ3qkM"
      },
      "source": [
        "df_train = pd.read_csv('/content/train.csv',decimal=',')\n",
        "df_test = pd.read_csv('/content/test.csv',decimal=',')"
      ],
      "execution_count": 10,
      "outputs": []
    },
    {
      "cell_type": "code",
      "metadata": {
        "id": "jfP2IrjS4Yie",
        "outputId": "5c19bd1b-ee91-4564-bec8-7185e92d1ec9",
        "colab": {
          "base_uri": "https://localhost:8080/",
          "height": 102
        }
      },
      "source": [
        "df_train.count()\n",
        "df_test.count()"
      ],
      "execution_count": 11,
      "outputs": [
        {
          "output_type": "execute_result",
          "data": {
            "text/plain": [
              "id          3263\n",
              "keyword     3237\n",
              "location    2158\n",
              "text        3263\n",
              "dtype: int64"
            ]
          },
          "metadata": {
            "tags": []
          },
          "execution_count": 11
        }
      ]
    },
    {
      "cell_type": "markdown",
      "metadata": {
        "id": "ma7FxJ4NQ1W5"
      },
      "source": [
        "Result Compariosn\n",
        "V1 )\n",
        "full trainset, adam, binary_crossentropy\n",
        "model - emb, lstm(64), flatten, sigmoid\n",
        "epochs 100\n",
        "accuracy .80\n",
        "chances of overfitting\n"
      ]
    },
    {
      "cell_type": "code",
      "metadata": {
        "id": "Df09LVT37PDj",
        "outputId": "34d550ba-7acd-4875-9e1a-504f056e368c",
        "colab": {
          "base_uri": "https://localhost:8080/",
          "height": 85
        }
      },
      "source": [
        "\n",
        "## pre-processing improvements\n",
        "\n",
        "\n",
        "import nltk\n",
        "nltk.download('punkt')\n",
        "from nltk.tokenize import word_tokenize\n",
        "import string\n",
        "import re\n",
        "import spacy\n",
        "sp = spacy.load('en_core_web_sm')\n",
        "from nltk.stem import WordNetLemmatizer\n",
        "nltk.download('wordnet')\n",
        "lemma= WordNetLemmatizer()\n",
        "\n",
        "def clean_data(text):\n",
        "    #remove emails\n",
        "    text = ' '.join([i for i in text.split() if '@' not in i])\n",
        "    \n",
        "    #remove web address\n",
        "    text = re.sub('http[s]?://\\S+', '', text)\n",
        "    \n",
        "    #Filter to allow only alphabets\n",
        "    text = re.sub(r'[^a-zA-Z\\']', ' ', text)\n",
        "    \n",
        "    #Remove Unicode characters\n",
        "    text = re.sub(r'[^\\x00-\\x7F]+', '', text)\n",
        "    \n",
        "    #Convert to lowercase to maintain consistency\n",
        "    text = text.lower()\n",
        "    \n",
        "    #Remove stopwords\n",
        "    all_stopwords = sp.Defaults.stop_words\n",
        "    text_tokens = word_tokenize(text)\n",
        "    tokens_without_sw= [word for word in text_tokens if not word in all_stopwords]\n",
        "      \n",
        "    #lemmatization\n",
        "    text= [lemma.lemmatize(w) for w in tokens_without_sw]\n",
        "    text= ' '.join(text)\n",
        "  \n",
        "    #remove double spaces \n",
        "    text = re.sub('\\s+', ' ',text)\n",
        "    return (text)"
      ],
      "execution_count": 31,
      "outputs": [
        {
          "output_type": "stream",
          "text": [
            "[nltk_data] Downloading package punkt to /root/nltk_data...\n",
            "[nltk_data]   Unzipping tokenizers/punkt.zip.\n",
            "[nltk_data] Downloading package wordnet to /root/nltk_data...\n",
            "[nltk_data]   Unzipping corpora/wordnet.zip.\n"
          ],
          "name": "stdout"
        }
      ]
    },
    {
      "cell_type": "code",
      "metadata": {
        "id": "ZJoniHvR8iJ6"
      },
      "source": [
        "df_train['text'] = df_train['text'].apply(clean_data)"
      ],
      "execution_count": 32,
      "outputs": []
    },
    {
      "cell_type": "code",
      "metadata": {
        "id": "jyh6jYQ3R0by"
      },
      "source": [
        "x_train, y_train = df_train['text'], df_train['target']\n",
        "x_test = df_test['text']"
      ],
      "execution_count": 33,
      "outputs": []
    },
    {
      "cell_type": "code",
      "metadata": {
        "id": "dToRGtUwSV-c"
      },
      "source": [
        "xtrain,xval, ytrain,yval = train_test_split(x_train,y_train, test_size=.3)"
      ],
      "execution_count": 34,
      "outputs": []
    },
    {
      "cell_type": "code",
      "metadata": {
        "id": "mNgULVcOSpxv",
        "outputId": "2f48771b-6de6-4c5c-8349-9d21e7f81c14",
        "colab": {
          "base_uri": "https://localhost:8080/",
          "height": 85
        }
      },
      "source": [
        "print(xtrain.shape)\n",
        "print(ytrain.shape)\n",
        "print(xval.shape)\n",
        "print(yval.shape)"
      ],
      "execution_count": 14,
      "outputs": [
        {
          "output_type": "stream",
          "text": [
            "(5329,)\n",
            "(5329,)\n",
            "(2284,)\n",
            "(2284,)\n"
          ],
          "name": "stdout"
        }
      ]
    },
    {
      "cell_type": "code",
      "metadata": {
        "id": "1PbHu5mwSxJV"
      },
      "source": [
        "## learning...-->> word_index will keep all words in itself regardless of vocab_size...vocab_size only come in picture when we use tokenixer to tranform like tk.texts_to_sequences....\n",
        "## this is beacuse in traget text, most common words might be different so it keep all words to see most frequent words\n",
        "vocab_size =25000\n",
        "oovtoken ='<OOV>'\n",
        "\n",
        "def tokenize_padding(train_text,val_text):\n",
        "  tk = Tokenizer(num_words=vocab_size,oov_token=oovtoken)\n",
        "  tokenizer_train = tk.fit_on_texts(train_text)\n",
        "  word_index = tk.word_index\n",
        "  train_input_sequence = tk.texts_to_sequences(train_text)\n",
        "  train_input_sequence_padded = pad_sequences(train_input_sequence,padding='pre',truncating='pre')\n",
        "  local_max_len = train_input_sequence_padded.shape[-1]\n",
        "\n",
        "  val_input_sequence = tk.texts_to_sequences(val_text)\n",
        "  val_input_sequence_padded = pad_sequences(val_input_sequence,padding='pre',maxlen=local_max_len,truncating='pre')\n",
        "  return train_input_sequence_padded,val_input_sequence_padded,word_index"
      ],
      "execution_count": 35,
      "outputs": []
    },
    {
      "cell_type": "code",
      "metadata": {
        "id": "LS1d5TXwUzrV"
      },
      "source": [
        "x_train_padded, x_valid_padded,word_index = tokenize_padding(xtrain,xval)\n",
        "x_train_padded_2,x_test_padded ,word_index= tokenize_padding(xtrain,x_test)"
      ],
      "execution_count": 36,
      "outputs": []
    },
    {
      "cell_type": "code",
      "metadata": {
        "id": "5YcXNqgZVDwC",
        "outputId": "2e98ab42-05ba-44fd-e034-fbe3ac648381",
        "colab": {
          "base_uri": "https://localhost:8080/",
          "height": 51
        }
      },
      "source": [
        "print(x_train_padded.shape)\n",
        "print(x_valid_padded.shape)"
      ],
      "execution_count": 37,
      "outputs": [
        {
          "output_type": "stream",
          "text": [
            "(5329, 21)\n",
            "(2284, 21)\n"
          ],
          "name": "stdout"
        }
      ]
    },
    {
      "cell_type": "code",
      "metadata": {
        "id": "mwlDsP0zd8EF",
        "outputId": "668a0db0-b255-4444-cedc-919430c1e307",
        "colab": {
          "base_uri": "https://localhost:8080/",
          "height": 34
        }
      },
      "source": [
        "max_len = x_train_padded.shape[-1]\n",
        "print(max_len)"
      ],
      "execution_count": 38,
      "outputs": [
        {
          "output_type": "stream",
          "text": [
            "21\n"
          ],
          "name": "stdout"
        }
      ]
    },
    {
      "cell_type": "code",
      "metadata": {
        "id": "KLDfS6ENumE0",
        "outputId": "4326c594-3019-4b77-f1f2-9e491a58db60",
        "colab": {
          "base_uri": "https://localhost:8080/",
          "height": 51
        }
      },
      "source": [
        "print(x_train_padded[0])"
      ],
      "execution_count": 39,
      "outputs": [
        {
          "output_type": "stream",
          "text": [
            "[   0    0    0    0    0    0    0    0    0    0   67 4437  268 4438\n",
            " 1371 4439  440  318 4440 4441 4442]\n"
          ],
          "name": "stdout"
        }
      ]
    },
    {
      "cell_type": "code",
      "metadata": {
        "id": "pBfTnCT_mmMb"
      },
      "source": [
        "## Glove implementation\n",
        "import numpy as np\n",
        "\n",
        "\n",
        "#lets make function for dictonary\n",
        "gval_file ='/content/glove.twitter.27B.200d.txt'\n",
        "embedding_dim =200\n",
        "embedding_index ={} #dict\n",
        "\n",
        "with open(gval_file) as f:\n",
        "  for line in f:\n",
        "    values = line.split()\n",
        "    word = values[0]\n",
        "    #vector = values[1:] ## not added as array, just to check\n",
        "    vector = np.asarray(values[1:], dtype='float32');\n",
        "    embedding_index[word] = vector"
      ],
      "execution_count": 20,
      "outputs": []
    },
    {
      "cell_type": "code",
      "metadata": {
        "id": "BrsVMr2NsT5D"
      },
      "source": [
        "embedding_metrics = np.zeros((vocab_size,embedding_dim))\n",
        "\n",
        "#now lets create metric only for our vocab\n",
        "\n",
        "for word,i in word_index.items():\n",
        "  emb_vector = embedding_index.get(word)\n",
        "  if(emb_vector is not None):\n",
        "    embedding_metrics[i] = emb_vector"
      ],
      "execution_count": 40,
      "outputs": []
    },
    {
      "cell_type": "code",
      "metadata": {
        "id": "4-B6RwxMtMaA",
        "outputId": "044c2d49-5ace-4170-c318-f71dfbeea46b",
        "colab": {
          "base_uri": "https://localhost:8080/",
          "height": 867
        }
      },
      "source": [
        "#embedding_metrics.shape\n",
        "embedding_metrics[3]\n",
        "#print(word_index)\n"
      ],
      "execution_count": 22,
      "outputs": [
        {
          "output_type": "execute_result",
          "data": {
            "text/plain": [
              "array([-1.16910003e-01, -6.14850000e-02, -4.63959992e-01,  2.07760006e-01,\n",
              "       -3.34069997e-01, -3.70310009e-01, -4.50610012e-01,  1.80810004e-01,\n",
              "       -1.99919999e-01, -1.59909993e-01, -2.34239995e-01,  6.89380020e-02,\n",
              "       -5.76179996e-02,  1.82530001e-01,  1.88710004e-01,  2.35440001e-01,\n",
              "        3.83850008e-01,  2.39539996e-01, -3.05669993e-01, -3.21649998e-01,\n",
              "        6.77129999e-02, -2.94030011e-01,  1.23439997e-01, -1.09880000e-01,\n",
              "       -2.97069997e-01, -1.07780004e+00, -1.72619998e-01, -6.57100007e-02,\n",
              "        5.23130000e-01,  2.94699997e-01, -8.96510035e-02, -7.43009984e-01,\n",
              "       -2.94940006e-02, -6.39680028e-02,  1.56869993e-01,  6.09200001e-01,\n",
              "       -1.88600004e-01,  1.02119997e-01, -3.71300012e-01, -2.33419999e-01,\n",
              "       -4.88299996e-01,  6.43989980e-01,  2.46340007e-01,  1.00460000e-01,\n",
              "       -4.94789988e-01,  4.81950015e-01, -4.70569998e-01, -5.02680004e-01,\n",
              "       -2.52810001e-01, -3.03779989e-01,  3.08140010e-01,  2.90490001e-01,\n",
              "        1.11000001e+00,  3.60749990e-01,  1.78149998e-01,  2.50019995e-03,\n",
              "        2.88989991e-01,  4.38410014e-01, -2.79480010e-01, -9.87399966e-02,\n",
              "       -9.65240002e-02,  5.67319989e-01,  2.02759996e-01,  5.79789996e-01,\n",
              "       -7.67619982e-02, -2.45580003e-01, -6.53800011e-01, -2.37819999e-01,\n",
              "       -1.05280006e+00,  2.25360006e-01,  3.26090008e-01,  1.18150003e-01,\n",
              "        2.83919990e-01, -4.70170006e-02, -1.41790003e-01,  3.07170004e-01,\n",
              "        1.89390004e-01,  2.17470005e-01,  2.54689991e-01, -3.89750004e-01,\n",
              "        4.84980009e-02,  5.20339981e-03, -3.06050003e-01,  6.36119992e-02,\n",
              "        5.26719987e-01, -1.12899996e-01, -4.28120010e-02, -1.53050005e-01,\n",
              "       -1.98129997e-01,  6.20989978e-01, -3.12999994e-01,  3.78369987e-01,\n",
              "        6.97380006e-01,  5.63340008e-01,  1.17169999e-01, -2.66429991e-01,\n",
              "        5.55309989e-02,  4.00249988e-01, -4.60119992e-02,  9.47939977e-02,\n",
              "        1.15600002e+00,  1.01810002e+00,  3.03790003e-01,  2.41129994e-01,\n",
              "       -3.68389994e-01, -4.41139996e-01,  3.31580006e-02, -7.31239974e-01,\n",
              "        3.88159990e-01, -1.81890000e-02, -1.47240004e-02,  3.49119991e-01,\n",
              "       -1.24810003e-01, -1.26350001e-01,  9.32990015e-02, -5.51869988e-01,\n",
              "        2.98009992e-01,  4.56070006e-02, -2.11469993e-01, -2.96400003e-02,\n",
              "       -3.64679992e-01,  2.81399995e-01,  2.99600005e-01,  7.95520008e-01,\n",
              "       -3.55210006e-01, -4.41870004e-01,  4.34169993e-02,  4.89560008e-01,\n",
              "       -2.82299995e-01, -2.44969994e-01, -1.86969995e-01, -9.23759997e-01,\n",
              "        5.39690018e-01,  1.41570002e-01,  5.67349978e-03, -7.36620009e-01,\n",
              "       -1.24519996e-01,  4.64230001e-01, -3.95599991e-01,  1.77530006e-01,\n",
              "       -6.23030007e-01,  5.41450024e-01,  2.19300002e-01, -1.51069999e-01,\n",
              "       -1.26790002e-01, -2.78380007e-01,  4.61459994e-01,  2.41949991e-03,\n",
              "       -1.18560001e-01,  3.81989986e-01,  2.43570000e-01,  2.39130005e-01,\n",
              "       -3.36059999e+00,  1.41319996e-02,  6.78900003e-01,  1.23989999e-01,\n",
              "        1.88890006e-02, -6.20859981e-01,  2.58010000e-01, -2.39130005e-01,\n",
              "       -1.74109995e-01,  1.55929998e-01, -5.98470010e-02,  1.27059996e-01,\n",
              "       -1.19419999e-01, -5.97410023e-01,  2.65619993e-01, -1.04570001e-01,\n",
              "        3.01779985e-01, -9.09340009e-03,  1.52730003e-01, -2.83279996e-02,\n",
              "       -1.08400002e-01,  3.30509990e-01, -1.42910004e-01,  6.23629987e-01,\n",
              "       -1.85599998e-02,  7.42439985e-01,  5.06480001e-02, -1.53350001e-02,\n",
              "        1.66090000e-02,  3.78740013e-01,  2.28540003e-01,  3.74260009e-03,\n",
              "        3.43589991e-01,  3.52200001e-01,  2.97069997e-01, -4.28519994e-01,\n",
              "        5.13650000e-01,  6.06519997e-01, -3.41459997e-02,  1.78279996e-01,\n",
              "       -1.61359996e-01,  6.39450014e-01, -3.24730009e-01,  4.68050003e-01,\n",
              "        4.95660007e-02, -8.00319985e-02, -4.89399999e-01, -5.22830009e-01])"
            ]
          },
          "metadata": {
            "tags": []
          },
          "execution_count": 22
        }
      ]
    },
    {
      "cell_type": "code",
      "metadata": {
        "id": "WDptrxVaVqZM"
      },
      "source": [
        "\n",
        "model = tf.keras.models.Sequential([\n",
        "                                     tf.keras.layers.Embedding(vocab_size,embedding_dim,\n",
        "                                                              input_length= max_len\n",
        "                                                              , weights=[embedding_metrics],trainable = False\n",
        "                                                              ),\n",
        "                                    tf.keras.layers.Dropout(.4),\n",
        "                                    tf.keras.layers.Bidirectional(tf.keras.layers.LSTM(64,return_sequences=True )),\n",
        "                                    #tf.keras.layers.GlobalAveragePooling1D(),\n",
        "                                    tf.keras.layers.Bidirectional(tf.keras.layers.LSTM(64)),\n",
        "                                    \n",
        "                                    #tf.keras.layers.GlobalAvgPool1D(),\n",
        "                                    #tf.keras.layers.Flatten(),\n",
        "                                    #tf.keras.layers.LSTM(64),\n",
        "                                    tf.keras.layers.Dense(200, activation='relu'),\n",
        "                                    #tf.keras.layers.Flatten(),\n",
        "                                    tf.keras.layers.Dense(1,activation='sigmoid')\n",
        "])"
      ],
      "execution_count": 55,
      "outputs": []
    },
    {
      "cell_type": "code",
      "metadata": {
        "id": "ubli89h3ioZL",
        "outputId": "1d33b3ef-7849-4eb1-ce40-b119bc41ffa5",
        "colab": {
          "base_uri": "https://localhost:8080/",
          "height": 1000
        }
      },
      "source": [
        "model.compile(optimizer=tf.keras.optimizers.Adam(learning_rate=1e-5), loss='binary_crossentropy', metrics=['accuracy'])\n",
        "#model.compile(optimizer=tf.keras.optimizers.Adam(learning_rate=.001), loss='binary_crossentropy', metrics=['accuracy'])\n",
        "learningratesch = tf.keras.callbacks.LearningRateScheduler(lambda epochs: 1e-5*10**(epochs/20))\n",
        "r2 = model.fit(x=x_train_padded,y=ytrain, \n",
        "               validation_data=(x_valid_padded,yval), \n",
        "               epochs=100, \n",
        "               verbose=2,\n",
        "               callbacks=[learningratesch]\n",
        "               )"
      ],
      "execution_count": 56,
      "outputs": [
        {
          "output_type": "stream",
          "text": [
            "Epoch 1/100\n",
            "167/167 - 3s - loss: 0.6852 - accuracy: 0.6099 - val_loss: 0.6797 - val_accuracy: 0.6165\n",
            "Epoch 2/100\n",
            "167/167 - 2s - loss: 0.6737 - accuracy: 0.6326 - val_loss: 0.6647 - val_accuracy: 0.6475\n",
            "Epoch 3/100\n",
            "167/167 - 2s - loss: 0.6532 - accuracy: 0.6787 - val_loss: 0.6345 - val_accuracy: 0.7062\n",
            "Epoch 4/100\n",
            "167/167 - 2s - loss: 0.6140 - accuracy: 0.7390 - val_loss: 0.5711 - val_accuracy: 0.7701\n",
            "Epoch 5/100\n",
            "167/167 - 2s - loss: 0.5467 - accuracy: 0.7673 - val_loss: 0.4941 - val_accuracy: 0.7837\n",
            "Epoch 6/100\n",
            "167/167 - 2s - loss: 0.4976 - accuracy: 0.7780 - val_loss: 0.4684 - val_accuracy: 0.7881\n",
            "Epoch 7/100\n",
            "167/167 - 2s - loss: 0.4792 - accuracy: 0.7812 - val_loss: 0.4594 - val_accuracy: 0.7925\n",
            "Epoch 8/100\n",
            "167/167 - 2s - loss: 0.4772 - accuracy: 0.7833 - val_loss: 0.4530 - val_accuracy: 0.7982\n",
            "Epoch 9/100\n",
            "167/167 - 2s - loss: 0.4614 - accuracy: 0.7925 - val_loss: 0.4482 - val_accuracy: 0.8030\n",
            "Epoch 10/100\n",
            "167/167 - 2s - loss: 0.4560 - accuracy: 0.7958 - val_loss: 0.4458 - val_accuracy: 0.8012\n",
            "Epoch 11/100\n",
            "167/167 - 2s - loss: 0.4476 - accuracy: 0.8007 - val_loss: 0.4427 - val_accuracy: 0.8039\n",
            "Epoch 12/100\n",
            "167/167 - 2s - loss: 0.4489 - accuracy: 0.7941 - val_loss: 0.4402 - val_accuracy: 0.8017\n",
            "Epoch 13/100\n",
            "167/167 - 2s - loss: 0.4401 - accuracy: 0.8005 - val_loss: 0.4373 - val_accuracy: 0.8043\n",
            "Epoch 14/100\n",
            "167/167 - 2s - loss: 0.4383 - accuracy: 0.8017 - val_loss: 0.4357 - val_accuracy: 0.8021\n",
            "Epoch 15/100\n",
            "167/167 - 2s - loss: 0.4377 - accuracy: 0.8005 - val_loss: 0.4421 - val_accuracy: 0.8060\n",
            "Epoch 16/100\n",
            "167/167 - 2s - loss: 0.4336 - accuracy: 0.8047 - val_loss: 0.4314 - val_accuracy: 0.8052\n",
            "Epoch 17/100\n",
            "167/167 - 2s - loss: 0.4276 - accuracy: 0.8067 - val_loss: 0.4438 - val_accuracy: 0.8021\n",
            "Epoch 18/100\n",
            "167/167 - 2s - loss: 0.4332 - accuracy: 0.8011 - val_loss: 0.4294 - val_accuracy: 0.8012\n",
            "Epoch 19/100\n",
            "167/167 - 2s - loss: 0.4206 - accuracy: 0.8099 - val_loss: 0.4274 - val_accuracy: 0.8034\n",
            "Epoch 20/100\n",
            "167/167 - 2s - loss: 0.4227 - accuracy: 0.8084 - val_loss: 0.4253 - val_accuracy: 0.8039\n",
            "Epoch 21/100\n",
            "167/167 - 2s - loss: 0.4106 - accuracy: 0.8199 - val_loss: 0.4296 - val_accuracy: 0.8056\n",
            "Epoch 22/100\n",
            "167/167 - 2s - loss: 0.4118 - accuracy: 0.8189 - val_loss: 0.4286 - val_accuracy: 0.8065\n",
            "Epoch 23/100\n",
            "167/167 - 2s - loss: 0.4064 - accuracy: 0.8176 - val_loss: 0.4346 - val_accuracy: 0.8091\n",
            "Epoch 24/100\n",
            "167/167 - 2s - loss: 0.4002 - accuracy: 0.8208 - val_loss: 0.4387 - val_accuracy: 0.8047\n",
            "Epoch 25/100\n",
            "167/167 - 2s - loss: 0.4008 - accuracy: 0.8242 - val_loss: 0.4598 - val_accuracy: 0.7955\n",
            "Epoch 26/100\n",
            "167/167 - 2s - loss: 0.3944 - accuracy: 0.8266 - val_loss: 0.4400 - val_accuracy: 0.8030\n",
            "Epoch 27/100\n",
            "167/167 - 2s - loss: 0.3848 - accuracy: 0.8272 - val_loss: 0.4548 - val_accuracy: 0.8004\n",
            "Epoch 28/100\n",
            "167/167 - 2s - loss: 0.3861 - accuracy: 0.8326 - val_loss: 0.4379 - val_accuracy: 0.8104\n",
            "Epoch 29/100\n",
            "167/167 - 2s - loss: 0.3723 - accuracy: 0.8399 - val_loss: 0.4383 - val_accuracy: 0.8078\n",
            "Epoch 30/100\n",
            "167/167 - 2s - loss: 0.3595 - accuracy: 0.8480 - val_loss: 0.4564 - val_accuracy: 0.8109\n",
            "Epoch 31/100\n",
            "167/167 - 2s - loss: 0.3584 - accuracy: 0.8381 - val_loss: 0.4458 - val_accuracy: 0.8078\n",
            "Epoch 32/100\n",
            "167/167 - 2s - loss: 0.3588 - accuracy: 0.8446 - val_loss: 0.4570 - val_accuracy: 0.8052\n",
            "Epoch 33/100\n",
            "167/167 - 2s - loss: 0.3507 - accuracy: 0.8482 - val_loss: 0.4272 - val_accuracy: 0.8144\n",
            "Epoch 34/100\n",
            "167/167 - 2s - loss: 0.3459 - accuracy: 0.8514 - val_loss: 0.4620 - val_accuracy: 0.8043\n",
            "Epoch 35/100\n",
            "167/167 - 2s - loss: 0.3360 - accuracy: 0.8576 - val_loss: 0.4690 - val_accuracy: 0.8043\n",
            "Epoch 36/100\n",
            "167/167 - 2s - loss: 0.3263 - accuracy: 0.8563 - val_loss: 0.4514 - val_accuracy: 0.8043\n",
            "Epoch 37/100\n",
            "167/167 - 2s - loss: 0.3147 - accuracy: 0.8718 - val_loss: 0.5009 - val_accuracy: 0.8025\n",
            "Epoch 38/100\n",
            "167/167 - 2s - loss: 0.3118 - accuracy: 0.8685 - val_loss: 0.5136 - val_accuracy: 0.8100\n",
            "Epoch 39/100\n",
            "167/167 - 2s - loss: 0.3199 - accuracy: 0.8598 - val_loss: 0.4916 - val_accuracy: 0.8025\n",
            "Epoch 40/100\n",
            "167/167 - 2s - loss: 0.2899 - accuracy: 0.8778 - val_loss: 0.5056 - val_accuracy: 0.8148\n",
            "Epoch 41/100\n",
            "167/167 - 2s - loss: 0.2956 - accuracy: 0.8771 - val_loss: 0.4867 - val_accuracy: 0.8144\n",
            "Epoch 42/100\n",
            "167/167 - 2s - loss: 0.2826 - accuracy: 0.8797 - val_loss: 0.5150 - val_accuracy: 0.8047\n",
            "Epoch 43/100\n",
            "167/167 - 2s - loss: 0.2679 - accuracy: 0.8880 - val_loss: 0.5363 - val_accuracy: 0.8021\n",
            "Epoch 44/100\n",
            "167/167 - 2s - loss: 0.2625 - accuracy: 0.8947 - val_loss: 0.6045 - val_accuracy: 0.7850\n",
            "Epoch 45/100\n",
            "167/167 - 2s - loss: 0.2479 - accuracy: 0.8972 - val_loss: 0.5523 - val_accuracy: 0.8052\n",
            "Epoch 46/100\n",
            "167/167 - 2s - loss: 0.2502 - accuracy: 0.8974 - val_loss: 0.5432 - val_accuracy: 0.7973\n",
            "Epoch 47/100\n",
            "167/167 - 2s - loss: 0.2397 - accuracy: 0.9035 - val_loss: 0.5440 - val_accuracy: 0.7982\n",
            "Epoch 48/100\n",
            "167/167 - 2s - loss: 0.2262 - accuracy: 0.9088 - val_loss: 0.6548 - val_accuracy: 0.8078\n",
            "Epoch 49/100\n",
            "167/167 - 2s - loss: 0.2397 - accuracy: 0.9019 - val_loss: 0.5831 - val_accuracy: 0.8056\n",
            "Epoch 50/100\n",
            "167/167 - 2s - loss: 0.2245 - accuracy: 0.9141 - val_loss: 0.5592 - val_accuracy: 0.8047\n",
            "Epoch 51/100\n",
            "167/167 - 2s - loss: 0.2102 - accuracy: 0.9165 - val_loss: 0.6068 - val_accuracy: 0.7798\n",
            "Epoch 52/100\n",
            "167/167 - 2s - loss: 0.2109 - accuracy: 0.9148 - val_loss: 0.6069 - val_accuracy: 0.7868\n",
            "Epoch 53/100\n",
            "167/167 - 2s - loss: 0.2134 - accuracy: 0.9176 - val_loss: 0.5960 - val_accuracy: 0.7842\n",
            "Epoch 54/100\n",
            "167/167 - 2s - loss: 0.2011 - accuracy: 0.9217 - val_loss: 0.6306 - val_accuracy: 0.7815\n",
            "Epoch 55/100\n",
            "167/167 - 2s - loss: 0.2050 - accuracy: 0.9216 - val_loss: 0.7382 - val_accuracy: 0.7750\n",
            "Epoch 56/100\n",
            "167/167 - 2s - loss: 0.2118 - accuracy: 0.9184 - val_loss: 0.5625 - val_accuracy: 0.7912\n",
            "Epoch 57/100\n",
            "167/167 - 2s - loss: 0.2084 - accuracy: 0.9186 - val_loss: 0.6178 - val_accuracy: 0.7907\n",
            "Epoch 58/100\n",
            "167/167 - 2s - loss: 0.2070 - accuracy: 0.9184 - val_loss: 0.7408 - val_accuracy: 0.7767\n",
            "Epoch 59/100\n",
            "167/167 - 2s - loss: 0.2229 - accuracy: 0.9129 - val_loss: 0.6190 - val_accuracy: 0.7824\n",
            "Epoch 60/100\n",
            "167/167 - 2s - loss: 0.2139 - accuracy: 0.9126 - val_loss: 0.6533 - val_accuracy: 0.7872\n",
            "Epoch 61/100\n",
            "167/167 - 2s - loss: 0.2405 - accuracy: 0.9034 - val_loss: 0.6598 - val_accuracy: 0.7951\n",
            "Epoch 62/100\n",
            "167/167 - 2s - loss: 0.2598 - accuracy: 0.8962 - val_loss: 0.5526 - val_accuracy: 0.7890\n",
            "Epoch 63/100\n",
            "167/167 - 2s - loss: 0.2515 - accuracy: 0.9000 - val_loss: 0.5339 - val_accuracy: 0.7916\n",
            "Epoch 64/100\n",
            "167/167 - 2s - loss: 0.2890 - accuracy: 0.8863 - val_loss: 0.5235 - val_accuracy: 0.7999\n",
            "Epoch 65/100\n",
            "167/167 - 2s - loss: 0.3289 - accuracy: 0.8594 - val_loss: 0.4830 - val_accuracy: 0.8021\n",
            "Epoch 66/100\n",
            "167/167 - 2s - loss: 0.3588 - accuracy: 0.8474 - val_loss: 0.5993 - val_accuracy: 0.7806\n",
            "Epoch 67/100\n",
            "167/167 - 2s - loss: 0.3933 - accuracy: 0.8366 - val_loss: 0.4846 - val_accuracy: 0.8004\n",
            "Epoch 68/100\n",
            "167/167 - 2s - loss: 0.3897 - accuracy: 0.8366 - val_loss: 0.4937 - val_accuracy: 0.7824\n",
            "Epoch 69/100\n",
            "167/167 - 2s - loss: 0.4227 - accuracy: 0.8185 - val_loss: 0.4714 - val_accuracy: 0.7986\n",
            "Epoch 70/100\n",
            "167/167 - 2s - loss: 0.4303 - accuracy: 0.8092 - val_loss: 0.5074 - val_accuracy: 0.7960\n",
            "Epoch 71/100\n",
            "167/167 - 2s - loss: 0.5173 - accuracy: 0.7572 - val_loss: 0.5860 - val_accuracy: 0.6940\n",
            "Epoch 72/100\n",
            "167/167 - 2s - loss: 0.5795 - accuracy: 0.7172 - val_loss: 0.5268 - val_accuracy: 0.7535\n",
            "Epoch 73/100\n",
            "167/167 - 2s - loss: 0.5980 - accuracy: 0.7063 - val_loss: 0.5880 - val_accuracy: 0.6988\n",
            "Epoch 74/100\n",
            "167/167 - 2s - loss: 0.5924 - accuracy: 0.7016 - val_loss: 0.6132 - val_accuracy: 0.6694\n",
            "Epoch 75/100\n",
            "167/167 - 2s - loss: 0.6226 - accuracy: 0.6724 - val_loss: 0.6041 - val_accuracy: 0.6799\n",
            "Epoch 76/100\n",
            "167/167 - 2s - loss: 0.6161 - accuracy: 0.6817 - val_loss: 0.6974 - val_accuracy: 0.5451\n",
            "Epoch 77/100\n",
            "167/167 - 2s - loss: 0.6479 - accuracy: 0.6395 - val_loss: 0.5802 - val_accuracy: 0.7115\n",
            "Epoch 78/100\n",
            "167/167 - 2s - loss: 0.6581 - accuracy: 0.6444 - val_loss: 0.7003 - val_accuracy: 0.5455\n",
            "Epoch 79/100\n",
            "167/167 - 2s - loss: 0.6818 - accuracy: 0.5810 - val_loss: 0.6920 - val_accuracy: 0.5455\n",
            "Epoch 80/100\n",
            "167/167 - 2s - loss: 0.6813 - accuracy: 0.5810 - val_loss: 0.6904 - val_accuracy: 0.5455\n",
            "Epoch 81/100\n",
            "167/167 - 2s - loss: 0.6841 - accuracy: 0.5738 - val_loss: 0.6893 - val_accuracy: 0.5455\n",
            "Epoch 82/100\n",
            "167/167 - 2s - loss: 0.6825 - accuracy: 0.5810 - val_loss: 0.7027 - val_accuracy: 0.5455\n",
            "Epoch 83/100\n",
            "167/167 - 2s - loss: 0.6818 - accuracy: 0.5812 - val_loss: 0.6909 - val_accuracy: 0.5455\n",
            "Epoch 84/100\n",
            "167/167 - 2s - loss: 0.6815 - accuracy: 0.5810 - val_loss: 0.6917 - val_accuracy: 0.5455\n",
            "Epoch 85/100\n",
            "167/167 - 2s - loss: 0.6845 - accuracy: 0.5735 - val_loss: 0.6962 - val_accuracy: 0.5455\n",
            "Epoch 86/100\n",
            "167/167 - 2s - loss: 0.6828 - accuracy: 0.5735 - val_loss: 0.6890 - val_accuracy: 0.5455\n",
            "Epoch 87/100\n",
            "167/167 - 2s - loss: 0.6835 - accuracy: 0.5753 - val_loss: 0.6903 - val_accuracy: 0.5455\n",
            "Epoch 88/100\n",
            "167/167 - 2s - loss: 0.6859 - accuracy: 0.5738 - val_loss: 0.6934 - val_accuracy: 0.5455\n",
            "Epoch 89/100\n",
            "167/167 - 2s - loss: 0.6828 - accuracy: 0.5772 - val_loss: 0.7203 - val_accuracy: 0.5455\n",
            "Epoch 90/100\n",
            "167/167 - 2s - loss: 0.6902 - accuracy: 0.5615 - val_loss: 0.7232 - val_accuracy: 0.5455\n",
            "Epoch 91/100\n",
            "167/167 - 2s - loss: 0.6874 - accuracy: 0.5678 - val_loss: 0.7433 - val_accuracy: 0.5455\n",
            "Epoch 92/100\n",
            "167/167 - 2s - loss: 0.6889 - accuracy: 0.5596 - val_loss: 0.6891 - val_accuracy: 0.5455\n",
            "Epoch 93/100\n",
            "167/167 - 2s - loss: 0.6891 - accuracy: 0.5618 - val_loss: 0.6914 - val_accuracy: 0.5455\n",
            "Epoch 94/100\n",
            "167/167 - 2s - loss: 0.6889 - accuracy: 0.5523 - val_loss: 0.6943 - val_accuracy: 0.4545\n",
            "Epoch 95/100\n",
            "167/167 - 2s - loss: 0.6878 - accuracy: 0.5630 - val_loss: 0.6964 - val_accuracy: 0.5455\n",
            "Epoch 96/100\n",
            "167/167 - 2s - loss: 0.6918 - accuracy: 0.5667 - val_loss: 0.6890 - val_accuracy: 0.5455\n",
            "Epoch 97/100\n",
            "167/167 - 2s - loss: 0.6909 - accuracy: 0.5622 - val_loss: 0.6966 - val_accuracy: 0.5455\n",
            "Epoch 98/100\n",
            "167/167 - 2s - loss: 0.6926 - accuracy: 0.5615 - val_loss: 0.7010 - val_accuracy: 0.5455\n",
            "Epoch 99/100\n",
            "167/167 - 2s - loss: 0.6966 - accuracy: 0.5483 - val_loss: 0.7115 - val_accuracy: 0.5455\n",
            "Epoch 100/100\n",
            "167/167 - 2s - loss: 0.6994 - accuracy: 0.5461 - val_loss: 0.6897 - val_accuracy: 0.5455\n"
          ],
          "name": "stdout"
        }
      ]
    },
    {
      "cell_type": "code",
      "metadata": {
        "id": "ZOhghRSsnYoh",
        "outputId": "d5174a85-b995-4d94-fe9d-998c7173a624",
        "colab": {
          "base_uri": "https://localhost:8080/",
          "height": 286
        }
      },
      "source": [
        "plt.semilogx(r2.history['lr'],r2.history['loss'])\n",
        "#plt.axis([1e-4,1e-2,0,.2])"
      ],
      "execution_count": 57,
      "outputs": [
        {
          "output_type": "execute_result",
          "data": {
            "text/plain": [
              "[<matplotlib.lines.Line2D at 0x7fd356cb5ac8>]"
            ]
          },
          "metadata": {
            "tags": []
          },
          "execution_count": 57
        },
        {
          "output_type": "display_data",
          "data": {
            "image/png": "[encoded data removed]",
            "text/plain": [
              "<Figure size 432x288 with 1 Axes>"
            ]
          },
          "metadata": {
            "tags": [],
            "needs_background": "light"
          }
        }
      ]
    },
    {
      "cell_type": "code",
      "metadata": {
        "id": "RJ6A080ckzVc",
        "outputId": "c9d50061-9410-4028-f884-15b17bcf2887",
        "colab": {
          "base_uri": "https://localhost:8080/",
          "height": 697
        }
      },
      "source": [
        "#recompile after picking correct learning rate\n",
        "model = tf.keras.models.Sequential([\n",
        "                                    tf.keras.layers.Embedding(vocab_size,embedding_dim,\n",
        "                                                              input_length= max_len\n",
        "                                                              , weights=[embedding_metrics],trainable = False\n",
        "                                                              ),\n",
        "                                    tf.keras.layers.Dropout(.4),\n",
        "                                    tf.keras.layers.Bidirectional(tf.keras.layers.LSTM(64,return_sequences=True )),\n",
        "                                    #tf.keras.layers.GlobalAveragePooling1D(),\n",
        "                                    tf.keras.layers.Bidirectional(tf.keras.layers.LSTM(64)),\n",
        "                                    \n",
        "                                    #tf.keras.layers.GlobalAvgPool1D(),\n",
        "                                    #tf.keras.layers.Flatten(),\n",
        "                                    #tf.keras.layers.LSTM(64),\n",
        "                                    tf.keras.layers.Dense(200, activation='relu'),\n",
        "                                    #tf.keras.layers.Flatten(),\n",
        "                                    tf.keras.layers.Dense(1,activation='sigmoid')\n",
        "])\n",
        "\n",
        "model.compile(optimizer=tf.keras.optimizers.Adam(learning_rate=5e-4),\n",
        "              loss='binary_crossentropy', metrics=['accuracy'])\n",
        "r3 = model.fit(x=x_train_padded,y=ytrain, \n",
        "               validation_data=(x_valid_padded,yval), \n",
        "               epochs=20, \n",
        "               verbose=2\n",
        "               )"
      ],
      "execution_count": 58,
      "outputs": [
        {
          "output_type": "stream",
          "text": [
            "Epoch 1/20\n",
            "167/167 - 3s - loss: 0.5227 - accuracy: 0.7502 - val_loss: 0.4498 - val_accuracy: 0.8012\n",
            "Epoch 2/20\n",
            "167/167 - 2s - loss: 0.4474 - accuracy: 0.7966 - val_loss: 0.4393 - val_accuracy: 0.8060\n",
            "Epoch 3/20\n",
            "167/167 - 2s - loss: 0.4348 - accuracy: 0.8067 - val_loss: 0.4315 - val_accuracy: 0.8078\n",
            "Epoch 4/20\n",
            "167/167 - 2s - loss: 0.4189 - accuracy: 0.8157 - val_loss: 0.4416 - val_accuracy: 0.8056\n",
            "Epoch 5/20\n",
            "167/167 - 2s - loss: 0.4003 - accuracy: 0.8227 - val_loss: 0.4364 - val_accuracy: 0.8025\n",
            "Epoch 6/20\n",
            "167/167 - 2s - loss: 0.3905 - accuracy: 0.8304 - val_loss: 0.4336 - val_accuracy: 0.8074\n",
            "Epoch 7/20\n",
            "167/167 - 2s - loss: 0.3785 - accuracy: 0.8313 - val_loss: 0.4522 - val_accuracy: 0.8039\n",
            "Epoch 8/20\n",
            "167/167 - 2s - loss: 0.3702 - accuracy: 0.8364 - val_loss: 0.4403 - val_accuracy: 0.7990\n",
            "Epoch 9/20\n",
            "167/167 - 2s - loss: 0.3561 - accuracy: 0.8495 - val_loss: 0.4488 - val_accuracy: 0.8025\n",
            "Epoch 10/20\n",
            "167/167 - 2s - loss: 0.3392 - accuracy: 0.8551 - val_loss: 0.4829 - val_accuracy: 0.7973\n",
            "Epoch 11/20\n",
            "167/167 - 2s - loss: 0.3220 - accuracy: 0.8555 - val_loss: 0.5084 - val_accuracy: 0.7960\n",
            "Epoch 12/20\n",
            "167/167 - 2s - loss: 0.3030 - accuracy: 0.8655 - val_loss: 0.5020 - val_accuracy: 0.8069\n",
            "Epoch 13/20\n",
            "167/167 - 2s - loss: 0.2868 - accuracy: 0.8773 - val_loss: 0.5070 - val_accuracy: 0.8004\n",
            "Epoch 14/20\n",
            "167/167 - 2s - loss: 0.2784 - accuracy: 0.8803 - val_loss: 0.5458 - val_accuracy: 0.7736\n",
            "Epoch 15/20\n",
            "167/167 - 2s - loss: 0.2671 - accuracy: 0.8831 - val_loss: 0.5381 - val_accuracy: 0.8117\n",
            "Epoch 16/20\n",
            "167/167 - 2s - loss: 0.2525 - accuracy: 0.8921 - val_loss: 0.5826 - val_accuracy: 0.8052\n",
            "Epoch 17/20\n",
            "167/167 - 2s - loss: 0.2345 - accuracy: 0.9004 - val_loss: 0.6123 - val_accuracy: 0.7811\n",
            "Epoch 18/20\n",
            "167/167 - 2s - loss: 0.2257 - accuracy: 0.9049 - val_loss: 0.6504 - val_accuracy: 0.8039\n",
            "Epoch 19/20\n",
            "167/167 - 2s - loss: 0.2164 - accuracy: 0.9092 - val_loss: 0.6050 - val_accuracy: 0.7925\n",
            "Epoch 20/20\n",
            "167/167 - 2s - loss: 0.2072 - accuracy: 0.9124 - val_loss: 0.6117 - val_accuracy: 0.7995\n"
          ],
          "name": "stdout"
        }
      ]
    },
    {
      "cell_type": "code",
      "metadata": {
        "id": "xEBxpENpXqGC",
        "outputId": "1fd1f2ef-4619-4d4d-eca9-303a0ca98e8f",
        "colab": {
          "base_uri": "https://localhost:8080/",
          "height": 517
        }
      },
      "source": [
        "plt.plot(r3.history['accuracy'],label='accuracy')\n",
        "plt.plot(r3.history['val_accuracy'], label ='val_accuracy')\n",
        "plt.legend()\n",
        "plt.show()\n",
        "plt.plot(r3.history['loss'], label='loss')\n",
        "plt.plot(r3.history['val_loss'], label='val_loss')\n",
        "plt.legend()\n",
        "plt.show()"
      ],
      "execution_count": 59,
      "outputs": [
        {
          "output_type": "display_data",
          "data": {
            "image/png": "[encoded data removed]",
            "text/plain": [
              "<Figure size 432x288 with 1 Axes>"
            ]
          },
          "metadata": {
            "tags": [],
            "needs_background": "light"
          }
        },
        {
          "output_type": "display_data",
          "data": {
            "image/png": "[encoded data removed]",
            "text/plain": [
              "<Figure size 432x288 with 1 Axes>"
            ]
          },
          "metadata": {
            "tags": [],
            "needs_background": "light"
          }
        }
      ]
    },
    {
      "cell_type": "code",
      "metadata": {
        "id": "Turee0vf1Rij"
      },
      "source": [
        "sample_submission = pd.read_csv(\"/content/sample_submission.csv\")"
      ],
      "execution_count": null,
      "outputs": []
    },
    {
      "cell_type": "code",
      "metadata": {
        "id": "pxtvjjRf3_aA"
      },
      "source": [
        "sample_submission[\"target\"] = model.predict_classes(x_test_padded)"
      ],
      "execution_count": null,
      "outputs": []
    },
    {
      "cell_type": "code",
      "metadata": {
        "id": "MIno1sag4rDr"
      },
      "source": [
        "sample_submission.head(100)"
      ],
      "execution_count": null,
      "outputs": []
    },
    {
      "cell_type": "code",
      "metadata": {
        "id": "SOUyuavM4ubl"
      },
      "source": [
        "sample_submission.to_csv(\"submission.csv\", index=False)"
      ],
      "execution_count": null,
      "outputs": []
    }
  ]
}